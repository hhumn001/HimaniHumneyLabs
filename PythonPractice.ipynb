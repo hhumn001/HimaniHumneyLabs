{
  "nbformat": 4,
  "nbformat_minor": 0,
  "metadata": {
    "colab": {
      "provenance": [],
      "include_colab_link": true
    },
    "kernelspec": {
      "name": "python3",
      "display_name": "Python 3"
    },
    "language_info": {
      "name": "python"
    }
  },
  "cells": [
    {
      "cell_type": "markdown",
      "metadata": {
        "id": "view-in-github",
        "colab_type": "text"
      },
      "source": [
        "<a href=\"https://colab.research.google.com/github/hhumn001/HimaniHumneyLabs/blob/main/PythonPractice.ipynb\" target=\"_parent\"><img src=\"https://colab.research.google.com/assets/colab-badge.svg\" alt=\"Open In Colab\"/></a>"
      ]
    },
    {
      "cell_type": "code",
      "execution_count": null,
      "metadata": {
        "id": "ud7DO_amaIZe"
      },
      "outputs": [],
      "source": [
        "# Lets practice some code\n",
        "# First, let's declare a class called Dice\n",
        "\n",
        "\"\"\"\n",
        "Next, add some documentation for the dice class on what it is supposed to do\n",
        "We are going to use the 3 quote style. Documentation is always before what\n",
        "you are documenting, with a blank line afterwards.\n",
        "\n",
        "\n",
        "Now we are going to create its constructor. Let the dice remember what it rolled\n",
        "the last time, so we can show it\n",
        "\n",
        "So, what attribute(s) will Dice have?\n",
        "\n",
        "What methods will dice have?\n",
        "\n",
        "Let's add the method to roll the die.\n",
        "it should display what it rolled, and return\n",
        "the value rolled.\n",
        "\"\"\""
      ]
    },
    {
      "cell_type": "code",
      "source": [
        "# Define the class here"
      ],
      "metadata": {
        "id": "WvzzyJp8j75c"
      },
      "execution_count": null,
      "outputs": []
    },
    {
      "cell_type": "code",
      "source": [
        "# Create an instance of the Dice class here"
      ],
      "metadata": {
        "id": "lleF5yLJknks"
      },
      "execution_count": null,
      "outputs": []
    },
    {
      "cell_type": "code",
      "source": [
        "# Call the method to roll the Dice here"
      ],
      "metadata": {
        "id": "FjvHQoyTkrP9"
      },
      "execution_count": null,
      "outputs": []
    },
    {
      "cell_type": "code",
      "source": [
        "# Now, lets learn about lists and loops.\n",
        "# We will continue with the same setup before.\n",
        "# Say we are going to create a game that requires 5 dice.\n",
        "# (yes technically we can roll the same die 5 times\n",
        "# but to learn the concept, we will create 5 dice instead)"
      ],
      "metadata": {
        "id": "InbzQ62Pkt_v"
      },
      "execution_count": null,
      "outputs": []
    },
    {
      "cell_type": "code",
      "source": [
        "# Yes we can create 5 dice using 5 instance variables.\n",
        "# Anyone wants to take a shot at that?"
      ],
      "metadata": {
        "id": "Fd84ZOkZlUaT"
      },
      "execution_count": null,
      "outputs": []
    },
    {
      "cell_type": "code",
      "source": [
        "# And since we have 5 instances, we will need to call roll on all 5\n",
        "# Ugh"
      ],
      "metadata": {
        "id": "H2mUHijolcC_"
      },
      "execution_count": null,
      "outputs": []
    },
    {
      "cell_type": "code",
      "source": [
        "# Much better to create a list of Dice"
      ],
      "metadata": {
        "id": "9JxCg_87liI6"
      },
      "execution_count": null,
      "outputs": []
    },
    {
      "cell_type": "code",
      "source": [
        "# We can create an empty list and just have a loop to create all instances"
      ],
      "metadata": {
        "id": "zAfj1pDwl_Uj"
      },
      "execution_count": null,
      "outputs": []
    },
    {
      "cell_type": "code",
      "source": [
        "# Then we can use a loop to roll all of them!"
      ],
      "metadata": {
        "id": "qbbutBaomDlu"
      },
      "execution_count": null,
      "outputs": []
    },
    {
      "cell_type": "code",
      "source": [
        "# Now let'b build a simple game that rolls 5 dice, and if the total of\n",
        "# the value is above 20, you win, otherwise you lose.\n",
        "# We will do it the OO way - so we will have a DiceGame class\n",
        "# With a method to play the DiceGame that rolls the 5 dice\n",
        "# and prints the outcome of the game."
      ],
      "metadata": {
        "id": "UM-lpNbhmIxg"
      },
      "execution_count": null,
      "outputs": []
    },
    {
      "cell_type": "code",
      "source": [],
      "metadata": {
        "id": "L1kCt6AGnQuV"
      },
      "execution_count": null,
      "outputs": []
    }
  ]
}